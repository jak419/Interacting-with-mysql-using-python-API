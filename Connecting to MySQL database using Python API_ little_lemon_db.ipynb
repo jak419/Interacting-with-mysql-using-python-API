{
 "cells": [
  {
   "cell_type": "code",
   "execution_count": 1,
   "id": "8dfeef3d",
   "metadata": {},
   "outputs": [],
   "source": [
    "# Import MySQL Connector/Python \n",
    "import mysql.connector as connector"
   ]
  },
  {
   "cell_type": "markdown",
   "id": "8d1bbfb4",
   "metadata": {},
   "source": [
    "## **Creating connection to mysql local host and cursor object**"
   ]
  },
  {
   "cell_type": "code",
   "execution_count": 6,
   "id": "07c8e679",
   "metadata": {},
   "outputs": [],
   "source": [
    "#Creating connection to mysql localhost and creating a cursor object\n",
    "connection=connector.connect(user=\"root\",password=\"Nicole2023\")\n",
    "cursor = connection.cursor()"
   ]
  },
  {
   "cell_type": "code",
   "execution_count": 7,
   "id": "aed9d37c",
   "metadata": {},
   "outputs": [],
   "source": [
    "#creating database little_lemon_db oand settting it for use\n",
    "cursor.execute(\"CREATE DATABASE IF NOT EXISTS little_lemon_db\")\n",
    "cursor.execute(\"USE little_lemon_db\")"
   ]
  },
  {
   "cell_type": "markdown",
   "id": "72393fee",
   "metadata": {},
   "source": [
    "## **Creating Tables into little_lemon_db**"
   ]
  },
  {
   "cell_type": "code",
   "execution_count": 18,
   "id": "c023647c",
   "metadata": {},
   "outputs": [],
   "source": [
    "#MenuItems table\n",
    "create_menuitem_table = \"\"\"CREATE TABLE IF NOT EXISTS MenuItems (\n",
    "ItemID INT AUTO_INCREMENT,\n",
    "Name VARCHAR(200),\n",
    "Type VARCHAR(100),\n",
    "Price INT,\n",
    "PRIMARY KEY (ItemID)\n",
    ");\"\"\""
   ]
  },
  {
   "cell_type": "code",
   "execution_count": 20,
   "id": "32a9bb7b",
   "metadata": {},
   "outputs": [],
   "source": [
    "#Menus table\n",
    "create_menu_table = \"\"\"CREATE TABLE IF NOT EXISTS Menus (\n",
    "MenuID INT,\n",
    "ItemID INT,\n",
    "Cuisine VARCHAR(100),\n",
    "PRIMARY KEY (MenuID,ItemID)\n",
    ");\"\"\""
   ]
  },
  {
   "cell_type": "code",
   "execution_count": 21,
   "id": "03ea837e",
   "metadata": {},
   "outputs": [],
   "source": [
    "#Bookings Table\n",
    "create_booking_table = \"\"\"CREATE TABLE IF NOT EXISTS Bookings (\n",
    "BookingID INT AUTO_INCREMENT,\n",
    "TableNo INT,\n",
    "GuestFirstName VARCHAR(100) NOT NULL,\n",
    "GuestLastName VARCHAR(100) NOT NULL,\n",
    "BookingSlot TIME NOT NULL,\n",
    "EmployeeID INT,\n",
    "PRIMARY KEY (BookingID)\n",
    ");\"\"\""
   ]
  },
  {
   "cell_type": "code",
   "execution_count": 22,
   "id": "5f9e46b8",
   "metadata": {},
   "outputs": [],
   "source": [
    "#Orders table\n",
    "create_orders_table = \"\"\"CREATE TABLE IF NOT EXISTS Orders (\n",
    "OrderID INT,\n",
    "TableNo INT,\n",
    "MenuID INT,\n",
    "BookingID INT,\n",
    "BillAmount INT,\n",
    "Quantity INT,\n",
    "PRIMARY KEY (OrderID,TableNo)\n",
    ");\"\"\""
   ]
  },
  {
   "cell_type": "code",
   "execution_count": 44,
   "id": "8b971e96",
   "metadata": {},
   "outputs": [],
   "source": [
    "#Employees table\n",
    "create_employees_table = \"\"\"CREATE TABLE IF NOT EXISTS Employees (\n",
    "    EmployeeID INT AUTO_INCREMENT PRIMARY KEY,\n",
    "    Name VARCHAR(255),\n",
    "    Role VARCHAR(255),\n",
    "    Address VARCHAR(255),\n",
    "    Contact_Number INT,\n",
    "    Email VARCHAR(255),\n",
    "    Annual_Salary VARCHAR(255)\n",
    ");\"\"\""
   ]
  },
  {
   "cell_type": "code",
   "execution_count": null,
   "id": "344b8623",
   "metadata": {},
   "outputs": [],
   "source": [
    "# Create MenuItems table\n",
    "cursor.execute(create_menuitem_table)\n",
    "\n",
    "# Create Menu table\n",
    "cursor.execute(create_menu_table)\n",
    "\n",
    "# Create Bookings table\n",
    "cursor.execute(create_booking_table)\n",
    "\n",
    "# Create Orders table\n",
    "cursor.execute(create_orders_table)\n",
    "\n",
    "# Create Employees table\n",
    "cursor.execute(create_employees_table)"
   ]
  },
  {
   "cell_type": "code",
   "execution_count": 45,
   "id": "9121b334",
   "metadata": {},
   "outputs": [],
   "source": [
    "# Create Employees table\n",
    "cursor.execute(create_employees_table)"
   ]
  },
  {
   "cell_type": "markdown",
   "id": "71d5b6e2",
   "metadata": {},
   "source": [
    "## **Inserting data into the created tables**"
   ]
  },
  {
   "cell_type": "code",
   "execution_count": 25,
   "id": "3f7e0949",
   "metadata": {},
   "outputs": [],
   "source": [
    "#*******************************************************#\n",
    "# Insert query to populate \"MenuItems\" table:\n",
    "#*******************************************************#\n",
    "insert_menuitems=\"\"\"\n",
    "INSERT INTO MenuItems (ItemID, Name, Type, Price)\n",
    "VALUES\n",
    "(1, 'Olives','Starters',5),\n",
    "(2, 'Flatbread','Starters', 5),\n",
    "(3, 'Minestrone', 'Starters', 8),\n",
    "(4, 'Tomato bread','Starters', 8),\n",
    "(5, 'Falafel', 'Starters', 7),\n",
    "(6, 'Hummus', 'Starters', 5),\n",
    "(7, 'Greek salad', 'Main Courses', 15),\n",
    "(8, 'Bean soup', 'Main Courses', 12),\n",
    "(9, 'Pizza', 'Main Courses', 15),\n",
    "(10, 'Greek yoghurt','Desserts', 7),\n",
    "(11, 'Ice cream', 'Desserts', 6),\n",
    "(12, 'Cheesecake', 'Desserts', 4),\n",
    "(13, 'Athens White wine', 'Drinks', 25),\n",
    "(14, 'Corfu Red Wine', 'Drinks', 30),\n",
    "(15, 'Turkish Coffee', 'Drinks', 10),\n",
    "(16, 'Turkish Coffee', 'Drinks', 10),\n",
    "(17, 'Kabasa', 'Main Courses', 17);\"\"\""
   ]
  },
  {
   "cell_type": "code",
   "execution_count": 26,
   "id": "4648ce07",
   "metadata": {},
   "outputs": [],
   "source": [
    "#*******************************************************#\n",
    "# Insert query to populate \"Menu\" table:\n",
    "#*******************************************************#\n",
    "insert_menu=\"\"\"\n",
    "INSERT INTO Menus (MenuID,ItemID,Cuisine)\n",
    "VALUES\n",
    "(1, 1, 'Greek'),\n",
    "(1, 7, 'Greek'),\n",
    "(1, 10, 'Greek'),\n",
    "(1, 13, 'Greek'),\n",
    "(2, 3, 'Italian'),\n",
    "(2, 9, 'Italian'),\n",
    "(2, 12, 'Italian'),\n",
    "(2, 15, 'Italian'),\n",
    "(3, 5, 'Turkish'),\n",
    "(3, 17, 'Turkish'),\n",
    "(3, 11, 'Turkish'),\n",
    "(3, 16, 'Turkish');\"\"\""
   ]
  },
  {
   "cell_type": "code",
   "execution_count": 28,
   "id": "d4c32f38",
   "metadata": {},
   "outputs": [],
   "source": [
    "#*******************************************************#\n",
    "# Insert query to populate \"Bookings\" table:\n",
    "#*******************************************************#\n",
    "insert_bookings=\"\"\"\n",
    "INSERT INTO Bookings (BookingID, TableNo, GuestFirstName, \n",
    "GuestLastName, BookingSlot, EmployeeID)\n",
    "VALUES\n",
    "(1, 12, 'Anna','Iversen','19:00:00',1),\n",
    "(2, 12, 'Joakim', 'Iversen', '19:00:00', 1),\n",
    "(3, 19, 'Vanessa', 'McCarthy', '15:00:00', 3),\n",
    "(4, 15, 'Marcos', 'Romero', '17:30:00', 4),\n",
    "(5, 5, 'Hiroki', 'Yamane', '18:30:00', 2),\n",
    "(6, 8, 'Diana', 'Pinto', '20:00:00', 5);\"\"\""
   ]
  },
  {
   "cell_type": "code",
   "execution_count": 29,
   "id": "c0e714b9",
   "metadata": {},
   "outputs": [],
   "source": [
    "#*******************************************************#\n",
    "# Insert query to populate \"Orders\" table:\n",
    "#*******************************************************#\n",
    "insert_orders=\"\"\"\n",
    "INSERT INTO Orders (OrderID, TableNo, MenuID, BookingID, Quantity, BillAmount)\n",
    "VALUES\n",
    "(1, 12, 1, 1, 2, 86),\n",
    "(2, 19, 2, 2, 1, 37),\n",
    "(3, 15, 2, 3, 1, 37),\n",
    "(4, 5, 3, 4, 1, 40),\n",
    "(5, 8, 1, 5, 1, 43);\"\"\""
   ]
  },
  {
   "cell_type": "code",
   "execution_count": 47,
   "id": "42b34ba5",
   "metadata": {},
   "outputs": [],
   "source": [
    "#*******************************************************#\n",
    "# Insert query to populate \"Employees\" table:\n",
    "#*******************************************************#\n",
    "insert_employees = \"\"\"\n",
    "INSERT INTO Employees (EmployeeID, Name, Role, Address, Contact_Number, Email, Annual_Salary)\n",
    "VALUES\n",
    "(01,'Mario Gollini','Manager','724, Parsley Lane, Old Town, Chicago, IL',351258074,'Mario.g@littlelemon.com','$70,000'),\n",
    "(02,'Adrian Gollini','Assistant Manager','334, Dill Square, Lincoln Park, Chicago, IL',351474048,'Adrian.g@littlelemon.com','$65,000'),\n",
    "(03,'Giorgos Dioudis','Head Chef','879 Sage Street, West Loop, Chicago, IL',351970582,'Giorgos.d@littlelemon.com','$50,000'),\n",
    "(04,'Fatma Kaya','Assistant Chef','132  Bay Lane, Chicago, IL',351963569,'Fatma.k@littlelemon.com','$45,000'),\n",
    "(05,'Elena Salvai','Head Waiter','989 Thyme Square, EdgeWater, Chicago, IL',351074198,'Elena.s@littlelemon.com','$40,000'),\n",
    "(06,'John Millar','Receptionist','245 Dill Square, Lincoln Park, Chicago, IL',351584508,'John.m@littlelemon.com','$35,000');\"\"\"\n"
   ]
  },
  {
   "cell_type": "code",
   "execution_count": null,
   "id": "4eda5c2e",
   "metadata": {},
   "outputs": [],
   "source": [
    "# Populate MenuItems table\n",
    "cursor.execute(insert_menuitems)\n",
    "connection.commit()\n",
    "\n",
    "# Populate MenuItems table\n",
    "cursor.execute(insert_menu)\n",
    "connection.commit()\n",
    "\n",
    "# Populate Bookings table\n",
    "cursor.execute(insert_bookings)\n",
    "connection.commit()\n",
    "\n",
    "# Populate Orders table\n",
    "cursor.execute(insert_orders)\n",
    "connection.commit()\n"
   ]
  },
  {
   "cell_type": "code",
   "execution_count": 48,
   "id": "61dad14d",
   "metadata": {},
   "outputs": [],
   "source": [
    "# Populate Employees table\n",
    "cursor.execute(insert_employees)\n",
    "connection.commit()"
   ]
  },
  {
   "cell_type": "markdown",
   "id": "299e6072",
   "metadata": {},
   "source": [
    "## **Establishing a pool connection**"
   ]
  },
  {
   "cell_type": "code",
   "execution_count": 49,
   "id": "11b80e3e",
   "metadata": {},
   "outputs": [
    {
     "name": "stdout",
     "output_type": "stream",
     "text": [
      "The connection pool is created with a name:  pool_a\n",
      "The pool size is: 2\n"
     ]
    }
   ],
   "source": [
    "from mysql.connector.pooling import MySQLConnectionPool\n",
    "from mysql.connector import Error\n",
    "\n",
    "dbconfig={\"database\":\"little_lemon_db\", \"user\":\"root\", \"password\":\"Nicole2023\"}\n",
    "\n",
    "try:\n",
    "    pool = MySQLConnectionPool(pool_name = \"pool_a\",\n",
    "                           pool_size = 2, #default is 5\n",
    "                           **dbconfig)\n",
    "    print(\"The connection pool is created with a name: \",pool.pool_name)\n",
    "    print(\"The pool size is:\",pool.pool_size)\n",
    "\n",
    "except Error as er:\n",
    "    print(\"Error code:\", er.errno)\n",
    "    print(\"Error message:\", er.msg)"
   ]
  },
  {
   "cell_type": "markdown",
   "id": "8e17d6b5",
   "metadata": {},
   "source": [
    "## **Creating stored procedures to determine peakhours,**"
   ]
  },
  {
   "cell_type": "code",
   "execution_count": 52,
   "id": "ef000815",
   "metadata": {},
   "outputs": [
    {
     "name": "stdout",
     "output_type": "stream",
     "text": [
      "['BookingHour', 'TotalBookings']\n",
      "(19, 2)\n",
      "(15, 1)\n",
      "(17, 1)\n",
      "(18, 1)\n",
      "(20, 1)\n"
     ]
    }
   ],
   "source": [
    "# Create the stored procedure\n",
    "stored_procedure_query = \"\"\"\n",
    "CREATE PROCEDURE PeakHours()\n",
    "BEGIN\n",
    "    SELECT HOUR(BookingSlot) AS BookingHour, COUNT(*) AS TotalBookings\n",
    "    FROM Bookings\n",
    "    GROUP BY HOUR(BookingSlot)\n",
    "    ORDER BY TotalBookings DESC;\n",
    "END;\n",
    "\"\"\"\n",
    "\n",
    "# Execute the stored procedure creation query\n",
    "cursor.execute(stored_procedure_query)\n",
    "\n",
    "# Call the stored procedure\n",
    "cursor.callproc(\"PeakHours\")\n",
    "\n",
    "# Fetch the results\n",
    "results = next(cursor.stored_results())\n",
    "dataset = results.fetchall()\n",
    "\n",
    "# Extract column names\n",
    "columns = [column[0] for column in results.description]\n",
    "\n",
    "# Print column names\n",
    "print(columns)\n",
    "\n",
    "# Print data\n",
    "for data in dataset:\n",
    "    print(data)\n"
   ]
  },
  {
   "cell_type": "markdown",
   "id": "30047d98",
   "metadata": {},
   "source": [
    "## **Creating stored procedure to determine Guest status**"
   ]
  },
  {
   "cell_type": "code",
   "execution_count": 56,
   "id": "65651cad",
   "metadata": {},
   "outputs": [
    {
     "name": "stdout",
     "output_type": "stream",
     "text": [
      "['GuestName', 'OrderStatus']\n",
      "('Anna Iversen', 'Ready to pay')\n",
      "('Joakim Iversen', 'Ready to pay')\n",
      "('Vanessa McCarthy', 'Ready to serve')\n",
      "('Marcos Romero', 'Preparing Order')\n",
      "('Hiroki Yamane', 'Ready to pay')\n",
      "('Diana Pinto', 'Order served')\n"
     ]
    }
   ],
   "source": [
    "import mysql.connector\n",
    "\n",
    "# Establish connection\n",
    "connection = mysql.connector.connect(\n",
    "    user=\"root\",\n",
    "    password=\"Nicole2023\",\n",
    "    database=\"little_lemon_db\"\n",
    ")\n",
    "\n",
    "# Create cursor\n",
    "cursor = connection.cursor()\n",
    "\n",
    "# Create the stored procedure query\n",
    "stored_procedure_query = \"\"\"\n",
    "CREATE PROCEDURE GuestStatus()\n",
    "BEGIN\n",
    "    SELECT CONCAT(GuestFirstName, ' ', GuestLastName) AS GuestName,\n",
    "    \n",
    "    CASE\n",
    "        WHEN e.Role IN ('Manager', 'Assistant Manager') THEN 'Ready to pay'\n",
    "        WHEN e.Role = 'Head Chef' THEN 'Ready to serve'\n",
    "        WHEN e.Role = 'Assistant Chef' THEN 'Preparing Order'\n",
    "        WHEN e.Role = 'Head Waiter' THEN 'Order served'\n",
    "    END AS OrderStatus\n",
    "    \n",
    "    FROM Bookings b\n",
    "    LEFT JOIN Employees e ON b.EmployeeID = e.EmployeeID;\n",
    "END;\n",
    "\"\"\"\n",
    "\n",
    "try:\n",
    "    # Execute the stored procedure creation query\n",
    "    cursor.execute(stored_procedure_query)\n",
    "\n",
    "    # Call the stored procedure\n",
    "    cursor.callproc(\"GuestStatus\")\n",
    "\n",
    "    # Fetch the results\n",
    "    results = next(cursor.stored_results())\n",
    "    dataset = results.fetchall()\n",
    "\n",
    "    # Extract column names\n",
    "    columns = [column[0] for column in results.description]\n",
    "\n",
    "    # Print column names\n",
    "    print(columns)\n",
    "\n",
    "    # Print data\n",
    "    for data in dataset:\n",
    "        print(data)\n",
    "\n",
    "except mysql.connector.Error as error:\n",
    "    print(\"Error occurred during stored procedure execution: {}\".format(error))\n",
    "\n",
    "finally:\n",
    "    # Close the cursor and connection\n",
    "    cursor.close()\n",
    "    connection.close()\n"
   ]
  },
  {
   "cell_type": "markdown",
   "id": "4639159c",
   "metadata": {},
   "source": [
    "## **Little Lemon Analysis and sales report**"
   ]
  },
  {
   "cell_type": "code",
   "execution_count": 57,
   "id": "802da8a1",
   "metadata": {},
   "outputs": [
    {
     "name": "stdout",
     "output_type": "stream",
     "text": [
      "The connection pool is created with a name:  pool_b\n",
      "The pool size is: 2\n"
     ]
    }
   ],
   "source": [
    "# Create a connection pool\n",
    "from mysql.connector.pooling import MySQLConnectionPool\n",
    "from mysql.connector import Error\n",
    "\n",
    "dbconfig = {\n",
    "    \"database\":\"little_lemon_db\",\n",
    "    \"user\" : \"root\",\n",
    "    \"password\" : \"Nicole2023\"\n",
    "}\n",
    "\n",
    "\n",
    "try:\n",
    "    pool = MySQLConnectionPool(pool_name = \"pool_b\",\n",
    "                           pool_size = 2, #default is 5\n",
    "                           **dbconfig)\n",
    "    print(\"The connection pool is created with a name: \",pool.pool_name)\n",
    "    print(\"The pool size is:\",pool.pool_size)\n",
    "\n",
    "except Error as er:\n",
    "    print(\"Error code:\", er.errno)\n",
    "    print(\"Error message:\", er.msg)"
   ]
  },
  {
   "cell_type": "code",
   "execution_count": 60,
   "id": "2356b0fb",
   "metadata": {},
   "outputs": [
    {
     "name": "stdout",
     "output_type": "stream",
     "text": [
      "The connection pool is created with a name: pool_b\n",
      "The pool size is: 2\n",
      "Data for Guest 1 inserted successfully.\n",
      "Data for Guest 2 inserted successfully.\n",
      "Error occurred while getting the third connection: Failed getting connection; pool exhausted\n"
     ]
    }
   ],
   "source": [
    "from mysql.connector.pooling import MySQLConnectionPool\n",
    "from mysql.connector import Error, PoolError\n",
    "import mysql.connector as connector\n",
    "\n",
    "dbconfig = {\n",
    "    \"database\": \"little_lemon_db\",\n",
    "    \"user\": \"root\",\n",
    "    \"password\": \"Nicole2023\"\n",
    "}\n",
    "\n",
    "try:\n",
    "    pool = MySQLConnectionPool(pool_name=\"pool_b\", pool_size=2, **dbconfig)\n",
    "    print(\"The connection pool is created with a name:\", pool.pool_name)\n",
    "    print(\"The pool size is:\", pool.pool_size)\n",
    "\n",
    "    # Get connections from the connection pool\n",
    "    connection1 = pool.get_connection()\n",
    "    connection2 = pool.get_connection()\n",
    "\n",
    "    try:\n",
    "        # Create cursors for each connection\n",
    "        cursor1 = connection1.cursor()\n",
    "        cursor2 = connection2.cursor()\n",
    "\n",
    "\n",
    "        # Insert data for Guest 1\n",
    "        insert_query1 = \"\"\"\n",
    "        INSERT INTO Bookings (BookingID, TableNo, GuestFirstName, GuestLastName, BookingSlot, EmployeeID)\n",
    "        VALUES (7, 8,'Anees', 'Java', \"18:00\", 6)\n",
    "        \"\"\"\n",
    "        cursor1.execute(insert_query1)\n",
    "        connection1.commit()\n",
    "        print(\"Data for Guest 1 inserted successfully.\")\n",
    "\n",
    "        # Insert data for Guest 2\n",
    "        insert_query2 = \"\"\"\n",
    "        INSERT INTO Bookings (BookingID,TableNo, GuestFirstName, GuestLastName, BookingSlot, EmployeeID)\n",
    "        VALUES (8, 5, \"Bald\", \"Vin\", \"19:00\", 6)\n",
    "        \"\"\"\n",
    "        cursor2.execute(insert_query2)\n",
    "        connection2.commit()\n",
    "        print(\"Data for Guest 2 inserted successfully.\")\n",
    "\n",
    "        # Get a third connection from the pool for Guest 3\n",
    "        try:\n",
    "            connection3 = pool.get_connection()\n",
    "\n",
    "            # Create a cursor for Guest 3\n",
    "            cursor3 = connection3.cursor()\n",
    "\n",
    "            # Insert data for Guest 3\n",
    "            insert_query3 = \"\"\"\n",
    "            INSERT INTO Bookings (BookingID, TableNo, GuestFirstName, GuestLastName, BookingSlot, EmployeeID)\n",
    "            VALUES (9, 12, \"Jay\", \"Kon\", \"19:30\", 6 )\n",
    "            \"\"\"\n",
    "            cursor3.execute(insert_query3)\n",
    "            connection3.commit()\n",
    "            print(\"Data for Guest 3 inserted successfully.\")\n",
    "\n",
    "        except PoolError as error:\n",
    "            print(\"Error occurred while getting the third connection:\", error)\n",
    "\n",
    "    except Error as error:\n",
    "        print(\"Error occurred during database operations:\", error)\n",
    "\n",
    "    finally:\n",
    "        # Close cursors and return connections to the pool\n",
    "        cursor1.close()\n",
    "        cursor2.close()\n",
    "        connection1.close()\n",
    "        connection2.close()\n",
    "\n",
    "except Error as er:\n",
    "    print(\"Error occurred during connection pool creation\")\n"
   ]
  },
  {
   "cell_type": "code",
   "execution_count": 61,
   "id": "23ce8bc0",
   "metadata": {},
   "outputs": [
    {
     "name": "stdout",
     "output_type": "stream",
     "text": [
      "The connection pool is created with a name: pool_b\n",
      "The pool size is: 2\n",
      "Little Lemon Manager:\n",
      "Name: Mario Gollini\n",
      "EmployeeID: 1\n",
      "Employee with Highest Salary:\n",
      "Name: Mario Gollini\n",
      "Role: Manager\n",
      "Number of Guests Booked between 18:00 and 20:00: 6\n",
      "Guests Waiting to be Seated with the Receptionist:\n",
      "Full Name: Anees Java\n",
      "BookingID: 7\n",
      "\n",
      "Full Name: Bald Vin\n",
      "BookingID: 8\n",
      "\n"
     ]
    }
   ],
   "source": [
    "from mysql.connector.pooling import MySQLConnectionPool\n",
    "from mysql.connector import Error\n",
    "import mysql.connector as connector\n",
    "\n",
    "\n",
    "dbconfig = {\n",
    "    \"database\": \"little_lemon_db\",\n",
    "    \"user\": \"root\",\n",
    "    \"password\": \"Nicole2023\"\n",
    "}\n",
    "\n",
    "try:\n",
    "    pool = MySQLConnectionPool(pool_name=\"pool_b\", pool_size=2, **dbconfig)\n",
    "    print(\"The connection pool is created with a name:\", pool.pool_name)\n",
    "    print(\"The pool size is:\", pool.pool_size)\n",
    "\n",
    "    # Get a connection from the connection pool\n",
    "    connection = pool.get_connection()\n",
    "\n",
    "    try:\n",
    "        # Create cursor\n",
    "        cursor = connection.cursor()\n",
    "\n",
    "        # Retrieve the name and EmployeeID of the Little Lemon manager\n",
    "        manager_query = \"\"\"\n",
    "        SELECT Name, EmployeeID\n",
    "        FROM Employees\n",
    "        WHERE Role = 'Manager'\n",
    "        \"\"\"\n",
    "        cursor.execute(manager_query)\n",
    "        manager_result = cursor.fetchone()\n",
    "        manager_name = manager_result[0]\n",
    "        manager_employee_id = manager_result[1]\n",
    "        print(\"Little Lemon Manager:\")\n",
    "        print(\"Name:\", manager_name)\n",
    "        print(\"EmployeeID:\", manager_employee_id)\n",
    "\n",
    "        # Retrieve the name and role of the employee with the highest salary\n",
    "        highest_salary_query = \"\"\"\n",
    "        SELECT Name, Role\n",
    "        FROM Employees\n",
    "        WHERE Annual_Salary = (\n",
    "            SELECT MAX(Annual_Salary)\n",
    "            FROM Employees\n",
    "        )\n",
    "        \"\"\"\n",
    "        cursor.execute(highest_salary_query)\n",
    "        highest_salary_result = cursor.fetchone()\n",
    "        highest_salary_name = highest_salary_result[0]\n",
    "        highest_salary_role = highest_salary_result[1]\n",
    "        print(\"Employee with Highest Salary:\")\n",
    "        print(\"Name:\", highest_salary_name)\n",
    "        print(\"Role:\", highest_salary_role)\n",
    "\n",
    "        # Retrieve the number of guests booked between 18:00 and 20:00\n",
    "        guests_count_query = \"\"\"\n",
    "        SELECT COUNT(*) as GuestsCount\n",
    "        FROM Bookings\n",
    "        WHERE BookingSlot BETWEEN '18:00:00' AND '20:00:00'\n",
    "        \"\"\"\n",
    "        cursor.execute(guests_count_query)\n",
    "        guests_count_result = cursor.fetchone()\n",
    "        guests_count = guests_count_result[0]\n",
    "        print(\"Number of Guests Booked between 18:00 and 20:00:\", guests_count)\n",
    "\n",
    "        # Retrieve the full name and BookingID of guests waiting to be seated with the receptionist in sorted order of BookingSlot\n",
    "        waiting_guests_query = \"\"\"\n",
    "        SELECT CONCAT(GuestFirstName, ' ', GuestLastName) AS FullName, BookingID\n",
    "        FROM Bookings\n",
    "        WHERE EmployeeID = (\n",
    "            SELECT EmployeeID\n",
    "            FROM Employees\n",
    "            WHERE Role = 'Receptionist'\n",
    "        )\n",
    "        ORDER BY BookingSlot\n",
    "        \"\"\"\n",
    "        cursor.execute(waiting_guests_query)\n",
    "        waiting_guests_results = cursor.fetchall()\n",
    "        print(\"Guests Waiting to be Seated with the Receptionist:\")\n",
    "        for waiting_guest in waiting_guests_results:\n",
    "            full_name = waiting_guest[0]\n",
    "            booking_id = waiting_guest[1]\n",
    "            print(\"Full Name:\", full_name)\n",
    "            print(\"BookingID:\", booking_id)\n",
    "            print()\n",
    "\n",
    "    except Error as error:\n",
    "        print(\"Error occurred during database operations:\", error)\n",
    "\n",
    "    finally:\n",
    "        # Close the cursor and connection\n",
    "        cursor.close()\n",
    "        connection.close()\n",
    "\n",
    "except Error as er:\n",
    "    print(\"Error occurred during connection pool creation:\", er)\n"
   ]
  },
  {
   "cell_type": "code",
   "execution_count": 94,
   "id": "046029e4",
   "metadata": {},
   "outputs": [
    {
     "name": "stdout",
     "output_type": "stream",
     "text": [
      "\tTotal_Sale: 243\n",
      "\tAverage_Sale: 48.6000\n",
      "\tMin_Bill_Paid: 37\n",
      "\tMax_Bill_Paid: 86\n"
     ]
    }
   ],
   "source": [
    "# Create a stored procedure named BasicSalesReport. \n",
    "cursor.execute(\"DROP PROCEDURE IF EXISTS BasicSalesReport;\")\n",
    "\n",
    "stored_procedure_query=\"\"\"\n",
    "CREATE PROCEDURE BasicSalesReport()\n",
    "\n",
    "BEGIN\n",
    "SELECT \n",
    "SUM(BillAmount) AS Total_Sale,\n",
    "AVG(BillAmount) AS Average_Sale,\n",
    "MIN(BillAmount) AS Min_Bill_Paid,\n",
    "MAX(BillAmount) AS Max_Bill_Paid\n",
    "FROM Orders;\n",
    "END\n",
    "\"\"\"\n",
    "\n",
    "# Execute the query\n",
    "cursor.execute(stored_procedure_query)\n",
    "\n",
    "#********************************************#\n",
    "\n",
    "# Call the stored procedure with its name\n",
    "cursor.callproc(\"BasicSalesReport\")\n",
    "# Retrieve records in \"dataset\"\n",
    "results = next(cursor.stored_results())\n",
    "results = results.fetchall()\n",
    "\n",
    "# Retrieve column names using list comprehension in a for loop \n",
    "for column_id in cursor.stored_results():\n",
    "    cols = [column[0] for column in column_id.description]\n",
    "\n",
    "    \n",
    "for result in results:\n",
    "    print(\"\\t{}: {}\".format(cols[0], result[0]))\n",
    "    print(\"\\t{}: {}\".format(cols[1], result[1]))\n",
    "    print(\"\\t{}: {}\".format(cols[2], result[2]))\n",
    "    print(\"\\t{}: {}\".format(cols[3], result[3]))\n"
   ]
  },
  {
   "cell_type": "code",
   "execution_count": 84,
   "id": "7fafd7c2",
   "metadata": {},
   "outputs": [
    {
     "name": "stdout",
     "output_type": "stream",
     "text": [
      "The connection pool is created with a name: pool_b\n",
      "The pool size is: 2\n",
      "[BookingSlot]\t[Guest_name]\t\t[Assigned to: Employee Name [Employee Role]]\n",
      "15:00:00 \t Vanessa McCarthy \t\t Giorgos Dioudis [Head Chef]\n",
      "17:30:00 \t Marcos Romero \t\t Fatma Kaya [Assistant Chef]\n",
      "18:00:00 \t Anees Java \t\t John Millar [Receptionist]\n"
     ]
    }
   ],
   "source": [
    "import mysql.connector\n",
    "from mysql.connector import Error\n",
    "from mysql.connector.pooling import MySQLConnectionPool\n",
    "\n",
    "# Create a connection pool\n",
    "dbconfig = {\n",
    "    \"database\": \"little_lemon_db\",\n",
    "    \"user\": \"root\",\n",
    "    \"password\": \"Nicole2023\"\n",
    "}\n",
    "\n",
    "try:\n",
    "    pool = MySQLConnectionPool(pool_name=\"pool_b\", pool_size=2, **dbconfig)\n",
    "    print(\"The connection pool is created with a name:\", pool.pool_name)\n",
    "    print(\"The pool size is:\", pool.pool_size)\n",
    "\n",
    "    # Get a connection from the pool\n",
    "    connection = pool.get_connection()\n",
    "\n",
    "    # Create a buffered cursor\n",
    "    cursor = connection.cursor(buffered=True)\n",
    "\n",
    "    # Combine data from Bookings and Employee tables, sort in ascending order, and fetch the first three bookings\n",
    "    query = \"\"\"\n",
    "    SELECT b.BookingSlot, CONCAT(b.GuestFirstName, ' ', b.GuestLastName) AS GuestName, \n",
    "           CONCAT(e.Name, ' [', e.Role, ']') AS AssignedTo\n",
    "    FROM Bookings b\n",
    "    LEFT JOIN Employees e ON b.EmployeeID = e.EmployeeID\n",
    "    ORDER BY b.BookingSlot ASC\n",
    "    LIMIT 3\n",
    "    \"\"\"\n",
    "\n",
    "    cursor.execute(query)\n",
    "\n",
    "    # Fetch and display the information of the first three guests\n",
    "    print(\"[BookingSlot]\\t[Guest_name]\\t\\t[Assigned to: Employee Name [Employee Role]]\")\n",
    "    for row in cursor.fetchall():\n",
    "        print(row[0], \"\\t\", row[1], \"\\t\\t\", row[2])\n",
    "\n",
    "    # Return the connection back to the pool\n",
    "    connection.close()\n",
    "\n",
    "except Error as e:\n",
    "    print(\"Error:\", e)\n"
   ]
  }
 ],
 "metadata": {
  "kernelspec": {
   "display_name": "Python 3 (ipykernel)",
   "language": "python",
   "name": "python3"
  },
  "language_info": {
   "codemirror_mode": {
    "name": "ipython",
    "version": 3
   },
   "file_extension": ".py",
   "mimetype": "text/x-python",
   "name": "python",
   "nbconvert_exporter": "python",
   "pygments_lexer": "ipython3",
   "version": "3.9.13"
  }
 },
 "nbformat": 4,
 "nbformat_minor": 5
}
